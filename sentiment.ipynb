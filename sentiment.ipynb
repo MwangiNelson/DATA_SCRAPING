{
 "cells": [
  {
   "cell_type": "code",
   "execution_count": 23,
   "metadata": {},
   "outputs": [],
   "source": [
    "from textblob import TextBlob\n",
    "import pandas as pd\n",
    "# from profanity_check import predict, predict_prob\n"
   ]
  },
  {
   "cell_type": "code",
   "execution_count": 24,
   "metadata": {},
   "outputs": [],
   "source": [
    "df = pd.read_csv('r_AnorexiaNervosa_posts.csv')"
   ]
  },
  {
   "cell_type": "markdown",
   "metadata": {},
   "source": [
    "**Sentiment classification**"
   ]
  },
  {
   "cell_type": "code",
   "execution_count": 25,
   "metadata": {},
   "outputs": [],
   "source": [
    "def textblob_sentiment(text: str) -> str:\n",
    "    \"\"\"\n",
    "    @param text: text you want to analyze\n",
    "    @return: either 'very negative', 'negative', 'neutral', 'positive' or 'very positive' depending on the score\n",
    "    \"\"\"\n",
    "    blob = TextBlob(str(text))\n",
    "    return lookup_label(blob.sentiment.polarity)\n",
    "\n",
    "def lookup_label(score:float) -> str:\n",
    "    if score < -.6:\n",
    "        return \"very negative\"\n",
    "    if score < -.2:\n",
    "        return \"negative\"\n",
    "    if score < .2:\n",
    "        return \"neutral\"\n",
    "    if score < .6:\n",
    "        return \"positive\"\n",
    "    return \"very positive\""
   ]
  },
  {
   "cell_type": "code",
   "execution_count": 13,
   "metadata": {},
   "outputs": [],
   "source": [
    "df['sentiment'] = df['selftext'].apply(textblob_sentiment)"
   ]
  },
  {
   "cell_type": "code",
   "execution_count": 14,
   "metadata": {},
   "outputs": [],
   "source": [
    "df.to_csv('posts_with_sentiment.csv', index=False)"
   ]
  },
  {
   "cell_type": "code",
   "execution_count": 15,
   "metadata": {},
   "outputs": [
    {
     "name": "stdout",
     "output_type": "stream",
     "text": [
      "Total word count in selftext: 1880760\n"
     ]
    }
   ],
   "source": [
    "column_name = 'selftext'\n",
    "\n",
    "df['word_count'] = df[column_name].apply(lambda x: len(str(x).split()))\n",
    "\n",
    "total_word_count = df['word_count'].sum()\n",
    "\n",
    "print(f'Total word count in {column_name}: {total_word_count}')"
   ]
  },
  {
   "cell_type": "markdown",
   "metadata": {},
   "source": [
    "**Profanity Clean Up**"
   ]
  },
  {
   "cell_type": "code",
   "execution_count": null,
   "metadata": {},
   "outputs": [],
   "source": []
  }
 ],
 "metadata": {
  "kernelspec": {
   "display_name": "kaleidos",
   "language": "python",
   "name": "python3"
  },
  "language_info": {
   "codemirror_mode": {
    "name": "ipython",
    "version": 3
   },
   "file_extension": ".py",
   "mimetype": "text/x-python",
   "name": "python",
   "nbconvert_exporter": "python",
   "pygments_lexer": "ipython3",
   "version": "3.9.13"
  }
 },
 "nbformat": 4,
 "nbformat_minor": 2
}
