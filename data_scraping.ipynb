{
 "cells": [
  {
   "cell_type": "code",
   "execution_count": 11,
   "metadata": {},
   "outputs": [],
   "source": [
    "from RedditAPI import RedditAPI, RedditPost\n",
    "import csv\n",
    "import praw"
   ]
  },
  {
   "cell_type": "code",
   "execution_count": 12,
   "metadata": {},
   "outputs": [
    {
     "data": {
      "text/plain": [
       "True"
      ]
     },
     "execution_count": 12,
     "metadata": {},
     "output_type": "execute_result"
    }
   ],
   "source": [
    "import os\n",
    "from dotenv import load_dotenv\n",
    "\n",
    "load_dotenv()\n"
   ]
  },
  {
   "cell_type": "code",
   "execution_count": 23,
   "metadata": {},
   "outputs": [],
   "source": [
    "\n",
    "# Create a Reddit instance\n",
    "reddit = praw.Reddit(\n",
    "   client_id=os.getenv('REDDIT_CLIENT_ID'),\n",
    "        client_secret=os.getenv('REDDIT_CLIENT_SECRET'),\n",
    "        user_agent=os.getenv('REDDIT_USER_AGENT'),           \n",
    "                    )"
   ]
  },
  {
   "cell_type": "code",
   "execution_count": 24,
   "metadata": {},
   "outputs": [],
   "source": [
    "def get_first_response(submission):\n",
    "    submission.comments.replace_more(limit=0)\n",
    "    if submission.comments.list():\n",
    "        return submission.comments.list()[0].body\n",
    "    else:\n",
    "        return \"\""
   ]
  },
  {
   "cell_type": "code",
   "execution_count": 25,
   "metadata": {},
   "outputs": [
    {
     "name": "stdout",
     "output_type": "stream",
     "text": [
      "Title: Welcome to r/Anorexia Recovery\n",
      "Response: \n",
      "\n",
      "Title: I don’t know if I can do it anymore\n",
      "Response: You can do it. Take it one moment at a time if you have to. Don't think about tomorrow or next week or next year or even the next few hours. Just think about this moment right here. If you can do it right now, you can keep doing it. \n",
      "\n",
      "Your body won't stay in this state forever. It's a transition period.\n",
      "\n",
      "Title: Re-Feeding GI Issues\n",
      "Response: \n",
      "\n",
      "Title: what happens when im weight restored?\n",
      "Response: I think weight is just one out of many aspects of recovery. Being fully recovered is a feeling of freedom, mental and physical health without too much effort. So until you'll get there, you're recovering.\n",
      "\n",
      "Title: food apps\n",
      "Response: Recovery Record can be really helpful there\n",
      "\n"
     ]
    }
   ],
   "source": [
    "num_posts = 5\n",
    "post_data = []\n",
    "\n",
    "# Loop through the hot posts in the subreddit\n",
    "for submission in reddit.subreddit('AnorexiaRecovery').hot(limit=num_posts):  \n",
    "    first_response = get_first_response(submission)\n",
    "    post_data.append([submission.title, first_response])\n",
    "\n",
    "for post in post_data:\n",
    "    print(f'Title: {post[0]}\\nResponse: {post[1]}\\n')"
   ]
  },
  {
   "cell_type": "code",
   "execution_count": 15,
   "metadata": {},
   "outputs": [
    {
     "name": "stdout",
     "output_type": "stream",
     "text": [
      "Data saved to reddit_posts_with_classes.csv\n"
     ]
    }
   ],
   "source": [
    "csv_file = 'reddit_posts_with_classes.csv'\n",
    "row = ['Title', 'Body', 'Comments']\n",
    "\n",
    "# Write data to CSV\n",
    "with open(csv_file, mode='w', newline='', encoding='utf-8') as file:\n",
    "    writer = csv.writer(file)\n",
    "    writer.writerow(row)  # Write header row\n",
    "\n",
    "    for post in post_data:\n",
    "        writer.writerows([post.to_csv()])  # Write post data\n",
    "\n",
    "print(f'Data saved to {csv_file}')"
   ]
  },
  {
   "cell_type": "code",
   "execution_count": 16,
   "metadata": {},
   "outputs": [],
   "source": []
  }
 ],
 "metadata": {
  "kernelspec": {
   "display_name": "kaleidos",
   "language": "python",
   "name": "python3"
  },
  "language_info": {
   "codemirror_mode": {
    "name": "ipython",
    "version": 3
   },
   "file_extension": ".py",
   "mimetype": "text/x-python",
   "name": "python",
   "nbconvert_exporter": "python",
   "pygments_lexer": "ipython3",
   "version": "3.12.0"
  },
  "orig_nbformat": 4
 },
 "nbformat": 4,
 "nbformat_minor": 2
}
