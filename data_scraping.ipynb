{
 "cells": [
  {
   "cell_type": "code",
   "execution_count": 9,
   "metadata": {},
   "outputs": [
    {
     "name": "stdout",
     "output_type": "stream",
     "text": [
      "Data saved to reddit_posts.csv\n"
     ]
    }
   ],
   "source": [
    "import praw\n",
    "import csv\n",
    "\n",
    "# Create a Reddit instance\n",
    "reddit = praw.Reddit(client_id='Ds7I1FoZBNjKB3jQqRPSRw',\n",
    "                     client_secret='0frI7GC9gJncK9bgmS6TPS145qqhfg',\n",
    "                     user_agent='Shoddy_Track_1275')\n",
    "\n",
    "# Define the subreddit you want to scrape\n",
    "subreddit = reddit.subreddit('AnorexiaRecovery')\n",
    "\n",
    "# Define the number of posts you want to retrieve\n",
    "num_posts = 10000\n",
    "post_data = []\n",
    "\n",
    "# Loop through the hot posts in the subreddit\n",
    "for submission in subreddit.hot(limit=num_posts):  \n",
    "    post_data.append([submission.title, submission.selftext])\n",
    "\n",
    "csv_file = 'reddit_posts.csv'\n",
    "\n",
    "# Write data to CSV\n",
    "with open(csv_file, mode='w', newline='', encoding='utf-8') as file:\n",
    "    writer = csv.writer(file)\n",
    "    writer.writerow(['Title', 'Selftext'])  # Write header row\n",
    "    writer.writerows(post_data)  # Write post data\n",
    "\n",
    "print(f'Data saved to {csv_file}')\n",
    "\n"
   ]
  }
 ],
 "metadata": {
  "kernelspec": {
   "display_name": "kaleidos",
   "language": "python",
   "name": "python3"
  },
  "language_info": {
   "codemirror_mode": {
    "name": "ipython",
    "version": 3
   },
   "file_extension": ".py",
   "mimetype": "text/x-python",
   "name": "python",
   "nbconvert_exporter": "python",
   "pygments_lexer": "ipython3",
   "version": "3.9.13"
  },
  "orig_nbformat": 4
 },
 "nbformat": 4,
 "nbformat_minor": 2
}
