{
 "cells": [
  {
   "cell_type": "code",
   "execution_count": 1,
   "metadata": {},
   "outputs": [],
   "source": [
    "import praw\n",
    "import csv\n",
    "from dotenv import load_dotenv\n",
    "import os"
   ]
  },
  {
   "cell_type": "code",
   "execution_count": 2,
   "metadata": {},
   "outputs": [
    {
     "data": {
      "text/plain": [
       "True"
      ]
     },
     "execution_count": 2,
     "metadata": {},
     "output_type": "execute_result"
    }
   ],
   "source": [
    "load_dotenv()"
   ]
  },
  {
   "cell_type": "code",
   "execution_count": 4,
   "metadata": {},
   "outputs": [],
   "source": [
    "\n",
    "class RedditScraper:\n",
    "    def __init__(self, client_id, client_secret, user_agent, subreddit_name):\n",
    "        self.reddit = praw.Reddit(client_id=client_id,\n",
    "                                  client_secret=client_secret,\n",
    "                                  user_agent=user_agent)\n",
    "        self.subreddit = self.reddit.subreddit(subreddit_name)\n",
    "        self.batch_size = 900\n",
    "        self.num_batches = 15\n",
    "\n",
    "    def fetch_posts(self):\n",
    "        post_data = []\n",
    "\n",
    "        for _ in range(self.num_batches):\n",
    "            # Get posts in batches of 300\n",
    "            submissions = list(self.subreddit.hot(limit=self.batch_size, params={'after': self.get_last_post_id(post_data)}))\n",
    "\n",
    "            if not submissions:\n",
    "                break\n",
    "\n",
    "            for submission in submissions:\n",
    "                post_data.append([submission.title, submission.selftext, submission.id])\n",
    "\n",
    "        return post_data\n",
    "\n",
    "    def get_last_post_id(self, post_data):\n",
    "        if post_data:\n",
    "            return post_data[-1][2]\n",
    "        else:\n",
    "            return None\n",
    "\n",
    "    def save_to_csv(self, post_data, file_name):\n",
    "        with open(file_name, mode='w', newline='', encoding='utf-8') as file:\n",
    "            writer = csv.writer(file)\n",
    "            writer.writerow(['Title', 'Selftext', 'Post ID'])  # Write header row\n",
    "            writer.writerows(post_data)  # Write post data\n"
   ]
  },
  {
   "cell_type": "code",
   "execution_count": 5,
   "metadata": {},
   "outputs": [
    {
     "name": "stdout",
     "output_type": "stream",
     "text": [
      "Data saved to r_AnorexiaNervosa_posts_2.csv\n"
     ]
    }
   ],
   "source": [
    "\n",
    "if __name__ == \"__main__\":\n",
    "    scraper = RedditScraper(\n",
    "        client_id=os.getenv('REDDIT_CLIENT_ID'),\n",
    "        client_secret=os.getenv('REDDIT_CLIENT_SECRET'),\n",
    "        user_agent=os.getenv('REDDIT_USER_AGENT'),\n",
    "        subreddit_name='AnorexiaNervosa'\n",
    "    )\n",
    "\n",
    "    post_data = scraper.fetch_posts()\n",
    "\n",
    "    if post_data:\n",
    "        scraper.save_to_csv(post_data, 'r_AnorexiaNervosa_posts.csv')\n",
    "        print(f'Data saved to r_AnorexiaNervosa_posts.csv')\n",
    "    else:\n",
    "        print('No more posts to fetch.')\n"
   ]
  }
 ],
 "metadata": {
  "kernelspec": {
   "display_name": "kaleidos",
   "language": "python",
   "name": "python3"
  },
  "language_info": {
   "codemirror_mode": {
    "name": "ipython",
    "version": 3
   },
   "file_extension": ".py",
   "mimetype": "text/x-python",
   "name": "python",
   "nbconvert_exporter": "python",
   "pygments_lexer": "ipython3",
   "version": "3.9.13"
  },
  "orig_nbformat": 4
 },
 "nbformat": 4,
 "nbformat_minor": 2
}
