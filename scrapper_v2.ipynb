{
 "cells": [
  {
   "cell_type": "code",
   "execution_count": 1,
   "metadata": {},
   "outputs": [
    {
     "name": "stdout",
     "output_type": "stream",
     "text": [
      "Data saved to reddit_posts_large.csv\n"
     ]
    }
   ],
   "source": [
    "import praw\n",
    "import csv\n",
    "\n",
    "class RedditScraper:\n",
    "    def __init__(self, client_id, client_secret, user_agent, subreddit_name):\n",
    "        self.reddit = praw.Reddit(client_id=client_id,\n",
    "                                  client_secret=client_secret,\n",
    "                                  user_agent=user_agent)\n",
    "        self.subreddit = self.reddit.subreddit(subreddit_name)\n",
    "        self.batch_size = 900\n",
    "        self.num_batches = 15\n",
    "\n",
    "    def fetch_posts(self):\n",
    "        post_data = []\n",
    "\n",
    "        for _ in range(self.num_batches):\n",
    "            # Get posts in batches of 300\n",
    "            submissions = list(self.subreddit.hot(limit=self.batch_size, params={'after': self.get_last_post_id(post_data)}))\n",
    "\n",
    "            if not submissions:\n",
    "                break\n",
    "\n",
    "            for submission in submissions:\n",
    "                post_data.append([submission.title, submission.selftext, submission.id])\n",
    "\n",
    "        return post_data\n",
    "\n",
    "    def get_last_post_id(self, post_data):\n",
    "        if post_data:\n",
    "            return post_data[-1][2]\n",
    "        else:\n",
    "            return None\n",
    "\n",
    "    def save_to_csv(self, post_data, file_name):\n",
    "        with open(file_name, mode='w', newline='', encoding='utf-8') as file:\n",
    "            writer = csv.writer(file)\n",
    "            writer.writerow(['Title', 'Selftext', 'Post ID'])  # Write header row\n",
    "            writer.writerows(post_data)  # Write post data\n",
    "\n",
    "if __name__ == \"__main__\":\n",
    "    scraper = RedditScraper(\n",
    "        client_id='Ds7I1FoZBNjKB3jQqRPSRw',\n",
    "        client_secret='0frI7GC9gJncK9bgmS6TPS145qqhfg',\n",
    "        user_agent='Shoddy_Track_1275',\n",
    "        subreddit_name='AnorexiaRecovery'\n",
    "    )\n",
    "\n",
    "    post_data = scraper.fetch_posts()\n",
    "\n",
    "    if post_data:\n",
    "        scraper.save_to_csv(post_data, 'reddit_posts_large.csv')\n",
    "        print(f'Data saved to reddit_posts_large.csv')\n",
    "    else:\n",
    "        print('No more posts to fetch.')\n"
   ]
  }
 ],
 "metadata": {
  "kernelspec": {
   "display_name": "kaleidos",
   "language": "python",
   "name": "python3"
  },
  "language_info": {
   "codemirror_mode": {
    "name": "ipython",
    "version": 3
   },
   "file_extension": ".py",
   "mimetype": "text/x-python",
   "name": "python",
   "nbconvert_exporter": "python",
   "pygments_lexer": "ipython3",
   "version": "3.9.13"
  },
  "orig_nbformat": 4
 },
 "nbformat": 4,
 "nbformat_minor": 2
}
